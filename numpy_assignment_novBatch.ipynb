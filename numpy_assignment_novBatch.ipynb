{
 "cells": [
  {
   "cell_type": "markdown",
   "metadata": {},
   "source": [
    "Write a function so that the columns of the output matrix are powers of the input\n",
    "vector.\n",
    "The order of the powers is determined by the increasing boolean argument. Specifically, when\n",
    "increasing is False, the i-th output column is the input vector raised element-wise to the power\n",
    "of N - i - 1.\n",
    "\n",
    "HINT: Such a matrix with a geometric progression in each row is named for Alexandre-\n",
    "Theophile Vandermonde."
   ]
  },
  {
   "cell_type": "code",
   "execution_count": 5,
   "metadata": {},
   "outputs": [],
   "source": [
    "import numpy as np\n",
    "\n",
    "def alexVandermonde_matrix(vect, n, increase = False):\n",
    "    if increase:\n",
    "        return np.matrix([ X ** i for X in vect for i in range(n)]).reshape(len(vect), n)\n",
    "    else:\n",
    "        return np.matrix([X ** (n-1-i) for X in vect for i in range(n)]).reshape(len(vect), n)\n",
    "\n"
   ]
  },
  {
   "cell_type": "code",
   "execution_count": 3,
   "metadata": {},
   "outputs": [
    {
     "data": {
      "text/plain": [
       "matrix([[ 1,  1,  1,  1],\n",
       "        [ 1,  2,  4,  8],\n",
       "        [ 1,  3,  9, 27]])"
      ]
     },
     "execution_count": 3,
     "metadata": {},
     "output_type": "execute_result"
    }
   ],
   "source": [
    "ivect = np.array([1,2,3])\n",
    "alexVandermonde_matrix(ivect, 4, True)"
   ]
  },
  {
   "cell_type": "code",
   "execution_count": 4,
   "metadata": {},
   "outputs": [
    {
     "data": {
      "text/plain": [
       "matrix([[ 1,  1,  1,  1],\n",
       "        [ 8,  4,  2,  1],\n",
       "        [27,  9,  3,  1]])"
      ]
     },
     "execution_count": 4,
     "metadata": {},
     "output_type": "execute_result"
    }
   ],
   "source": [
    "alexVandermonde_matrix(ivect, 4)\n"
   ]
  },
  {
   "cell_type": "markdown",
   "metadata": {},
   "source": [
    "Write a function to find moving average in an array over a window:\n",
    "Test it over [3, 5, 7, 2, 8, 10, 11, 65, 72, 81, 99, 100, 150] and window of 3."
   ]
  },
  {
   "cell_type": "code",
   "execution_count": 10,
   "metadata": {},
   "outputs": [
    {
     "name": "stdout",
     "output_type": "stream",
     "text": [
      "Average :\n",
      "=======\n",
      "\n",
      "e1 : 5.0\n",
      "\n",
      "e2 : 4.666666666666667\n",
      "\n",
      "e3 : 5.666666666666667\n",
      "\n",
      "e4 : 6.666666666666667\n",
      "\n",
      "e5 : 9.666666666666666\n",
      "\n",
      "e6 : 28.666666666666668\n",
      "\n",
      "e7 : 49.333333333333336\n",
      "\n",
      "e8 : 72.66666666666667\n",
      "\n",
      "e9 : 84.0\n",
      "\n",
      "e10 : 93.33333333333333\n",
      "\n",
      "e11 : 116.33333333333333\n",
      "\n",
      "Moving average sequence has 11 values.\n",
      "\n"
     ]
    }
   ],
   "source": [
    "def find_movAverage(iarray,wind_size):\n",
    "    i = 1\n",
    "    mAvg = np.convolve(iarray, np.ones(wind_size), 'valid') / wind_size\n",
    "    print(\"Average :\\n=======\\n\")\n",
    "    for avg in mAvg:\n",
    "        print(\"e{} : {}\\n\".format(i, avg))\n",
    "        i = i+1\n",
    "    print(\"Moving average sequence has {} values.\\n\".format(len(mAvg)))\n",
    "\n",
    "arr = np.array([3, 5, 7, 2, 8, 10, 11, 65, 72, 81, 99, 100, 150])\n",
    "wind = 3\n",
    "find_movAverage(arr, wind)\n",
    "    "
   ]
  },
  {
   "cell_type": "code",
   "execution_count": null,
   "metadata": {},
   "outputs": [],
   "source": []
  }
 ],
 "metadata": {
  "kernelspec": {
   "display_name": "Python 3",
   "language": "python",
   "name": "python3"
  },
  "language_info": {
   "codemirror_mode": {
    "name": "ipython",
    "version": 3
   },
   "file_extension": ".py",
   "mimetype": "text/x-python",
   "name": "python",
   "nbconvert_exporter": "python",
   "pygments_lexer": "ipython3",
   "version": "3.8.5"
  }
 },
 "nbformat": 4,
 "nbformat_minor": 4
}
